{
 "cells": [
  {
   "cell_type": "markdown",
   "metadata": {},
   "source": [
    "ChatGPT Prompts for Respondin to Customer Inquiries"
   ]
  },
  {
   "cell_type": "markdown",
   "metadata": {},
   "source": [
    "1. Generate a response to a customer who is asking about your return policy for electronic devices purchased within the last 30 days.\n",
    "\n",
    "2. Provide a detailed answer to a customer who wants to know the differences between your basic and premium subscription plans.\n",
    "\n",
    "3. Craft a friendly response to a customer who is inquiring about your store’s holiday hours and any special promotions or events."
   ]
  },
  {
   "cell_type": "markdown",
   "metadata": {},
   "source": [
    "ChatGPT prompts for solving problems and resolving issues"
   ]
  },
  {
   "cell_type": "markdown",
   "metadata": {},
   "source": [
    "1. Generate a step-by-step troubleshooting guide for a customer who is experiencing issues with their recently purchased smart home device.\n",
    "\n",
    "2. Provide a solution for a customer who reports that their online order was incomplete and missing several items.\n",
    "\n",
    "3. Craft an empathetic response to a customer who is frustrated with a delayed shipment and is seeking a resolution."
   ]
  },
  {
   "cell_type": "code",
   "execution_count": null,
   "metadata": {},
   "outputs": [],
   "source": [
    "import openai\n",
    "from dotenv import load_dotenv\n",
    "import os\n",
    "load_dotenv()\n",
    "\n",
    "openai_api_key = os.getenv(\"OPENAI_API_KEY\")\n",
    "\n",
    "client = openai.OpenAI(\n",
    "    api_key=openai_api_key\n",
    ")"
   ]
  },
  {
   "cell_type": "markdown",
   "metadata": {},
   "source": []
  },
  {
   "cell_type": "code",
   "execution_count": 4,
   "metadata": {},
   "outputs": [],
   "source": [
    "def get_response(prompt, model=\"gpt-3.5-turbo\"):\n",
    "    response = client.chat.completions.create(\n",
    "        model=model,\n",
    "        messages=[\n",
    "            {\"role\": \"system\", \"content\": \"You are a helpful and friendly customer support assistant.\"},\n",
    "            {\"role\": \"user\", \"content\": prompt}\n",
    "        ],\n",
    "        temperature=0.7,\n",
    "    )\n",
    "    content =  response.choices[0].message.content\n",
    "    return content\n"
   ]
  },
  {
   "cell_type": "markdown",
   "metadata": {},
   "source": [
    "Prompt 1: (Return Policy - Zero-Shot)"
   ]
  },
  {
   "cell_type": "code",
   "execution_count": 5,
   "metadata": {},
   "outputs": [
    {
     "name": "stdout",
     "output_type": "stream",
     "text": [
      "Our return policy for electronic devices purchased within the last 30 days allows for a full refund or exchange. The device must be in its original condition with all accessories and packaging included. Please make sure to bring your receipt or proof of purchase when returning the item. If you have any further questions or need assistance with the return process, feel free to contact us.\n"
     ]
    }
   ],
   "source": [
    "prompt_1 = \"What is your return policy for electronic devices purchased within the last 30 days?\"\n",
    "print(get_response(prompt_1))\n"
   ]
  },
  {
   "cell_type": "markdown",
   "metadata": {},
   "source": [
    "Prompt 2: Subscription Plans (Few-shot style)"
   ]
  },
  {
   "cell_type": "code",
   "execution_count": 6,
   "metadata": {},
   "outputs": [
    {
     "name": "stdout",
     "output_type": "stream",
     "text": [
      "Certainly! The basic subscription plan offers access to essential features like X and Y. On the other hand, the premium subscription plan includes all the features in the basic plan, as well as additional benefits such as A, B, and C. Let me know if you have any more questions or if you need further clarification.\n"
     ]
    }
   ],
   "source": [
    "prompt_2 = \"\"\"\n",
    "Answer in a clear and polite tone.\n",
    "\n",
    "Customer: Can you tell me the differences between your basic and premium subscription plans?\n",
    "\n",
    "Example Response:\n",
    "The basic plan includes access to standard features like X and Y. \n",
    "The premium plan includes everything in basic, plus additional features such as A, B, and C.\n",
    "\n",
    "Now respond to the customer.\n",
    "\"\"\"\n",
    "print(get_response(prompt_2))\n"
   ]
  },
  {
   "cell_type": "markdown",
   "metadata": {},
   "source": [
    "Prompt 3: Holiday Hours (Friendly tone, Chain-of-Thought)"
   ]
  },
  {
   "cell_type": "code",
   "execution_count": 7,
   "metadata": {},
   "outputs": [
    {
     "name": "stdout",
     "output_type": "stream",
     "text": [
      "Hello! Thank you for reaching out. \n",
      "\n",
      "Our store will have special holiday hours during the festive season. We will be open from 9:00 AM to 6:00 PM on Christmas Eve and closed on Christmas Day. On New Year's Eve, we will be open from 10:00 AM to 5:00 PM and closed on New Year's Day.\n",
      "\n",
      "We are also running a special promotion where customers can enjoy a 20% discount on all holiday-themed items until the end of the year. Additionally, we will be hosting a holiday shopping event next weekend with free gift wrapping services and festive refreshments for all our customers.\n",
      "\n",
      "We would love for you to visit us during this holiday season to take advantage of our promotions and enjoy a wonderful shopping experience. If you have any more questions or need further assistance, please feel free to ask. Happy holidays!\n"
     ]
    }
   ],
   "source": [
    "prompt_3 = \"\"\"\n",
    "A customer is asking about your store’s holiday hours and any special promotions or events.\n",
    "\n",
    "Think step-by-step:\n",
    "1. Greet the customer\n",
    "2. Share the holiday hours\n",
    "3. Mention any special events or offers\n",
    "4. Invite them to visit\n",
    "\n",
    "Now write the full response.\n",
    "\"\"\"\n",
    "print(get_response(prompt_3))"
   ]
  },
  {
   "cell_type": "code",
   "execution_count": null,
   "metadata": {},
   "outputs": [],
   "source": []
  }
 ],
 "metadata": {
  "kernelspec": {
   "display_name": "kg-env",
   "language": "python",
   "name": "python3"
  },
  "language_info": {
   "codemirror_mode": {
    "name": "ipython",
    "version": 3
   },
   "file_extension": ".py",
   "mimetype": "text/x-python",
   "name": "python",
   "nbconvert_exporter": "python",
   "pygments_lexer": "ipython3",
   "version": "3.13.5"
  }
 },
 "nbformat": 4,
 "nbformat_minor": 2
}
